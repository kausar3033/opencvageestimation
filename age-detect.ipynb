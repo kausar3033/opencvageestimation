from tensorflow.keras.preprocessing.image import ImageDataGenerator,load_img
from keras.preprocessing.image import img_to_array
from tensorflow.keras.preprocessing import image
from tensorflow.keras.optimizers import RMSprop
import matplotlib.pyplot as plt
import tensorflow as tf
import numpy as np
import cv2
import os


img = image.load_img("/content/opencvageestimation/images/train/under20/h10.jpeg")
plt.imshow(img)


cv2.imread("/content/opencvageestimation/images/train/under20/h1.jpeg").shape

train = ImageDataGenerator(rescale= 1/250)
validation = ImageDataGenerator(rescale= 1/250)


train_dataset = train.flow_from_directory('/content/opencvageestimation/images/train',
                                          target_size= (200,200),
                                          batch_size = 3,
                                          class_mode ='binary')

validation_dataset = train.flow_from_directory('/content/opencvageestimation/images/validation',
                                          target_size= (200,200),
                                          batch_size = 3,
                                          class_mode ='binary')


train_dataset.class_indices



model = tf.keras.models.Sequential([tf.keras.layers.Conv2D(16,(3,3),activation = 'relu',input_shape =(200,200,3)),
                                    tf.keras.layers.MaxPool2D(2,2),
                                    #
                                    tf.keras.layers.Conv2D(32,(3,3),activation = 'relu'),
                                    tf.keras.layers.MaxPool2D(2,2),
                                    #
                                    tf.keras.layers.Conv2D(64,(3,3),activation = 'relu'),
                                    tf.keras.layers.MaxPool2D(2,2),
                                    #
                                    tf.keras.layers.Flatten(),
                                    ##
                                    tf.keras.layers.Dense(512,activation = 'relu'),
                                    ##
                                    tf.keras.layers.Dense(1,activation = 'sigmoid'),
                                    ])



model.compile(loss = 'binary_crossentropy',
              optimizer = RMSprop(lr=0.001),
              metrics =['accuracy'])


model_fit = model.fit(train_dataset,
                      steps_per_epoch = 3,
                      epochs = 10,
                      validation_data = validation_dataset)



dir_path = '/content/opencvageestimation/images/test/under20'

for i in os.listdir(dir_path):
    img = image.load_img(dir_path +'//'+ i, target_size=(200, 200))
    plt.imshow(img)
    plt.show()

    x = image.img_to_array(img)
    x = np.expand_dims(x,axis = 0)
    images = np.vstack([x])
    val = model.predict(images)
    if val > 2:
      print("aged")
    elif 0< val <2 :
      print("perfect for marrige")
    else:
      print("under 18")










